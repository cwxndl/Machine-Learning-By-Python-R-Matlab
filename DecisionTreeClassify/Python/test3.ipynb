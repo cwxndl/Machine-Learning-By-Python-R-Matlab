{
 "cells": [
  {
   "cell_type": "code",
   "execution_count": 1,
   "metadata": {},
   "outputs": [],
   "source": [
    "import pandas as pd \n",
    "import numpy as np\n",
    "import matplotlib.pyplot as plt \n",
    "import seaborn as snn\n",
    "from sklearn.model_selection import train_test_split\n",
    "from sklearn.metrics import classification_report,accuracy_score\n",
    "from sklearn.tree import DecisionTreeClassifier ##sklearn决策树算法\n",
    "from Decisiontree_classify import DecisionTreeClassify  ##自己写的决策树算法\n",
    "import utils"
   ]
  },
  {
   "attachments": {},
   "cell_type": "markdown",
   "metadata": {},
   "source": [
    "# 莺尾花数据集多分类"
   ]
  },
  {
   "cell_type": "code",
   "execution_count": 3,
   "metadata": {},
   "outputs": [
    {
     "name": "stdout",
     "output_type": "stream",
     "text": [
      "决策树算法应用在多分类数据集：\n",
      "              precision    recall  f1-score   support\n",
      "\n",
      "     setosa'       1.00      1.00      1.00        13\n",
      " versicolor'       1.00      0.95      0.97        19\n",
      "  virginica'       0.95      1.00      0.97        18\n",
      "\n",
      "    accuracy                           0.98        50\n",
      "   macro avg       0.98      0.98      0.98        50\n",
      "weighted avg       0.98      0.98      0.98        50\n",
      "\n",
      "0.98\n",
      "              precision    recall  f1-score   support\n",
      "\n",
      "     setosa'       1.00      1.00      1.00        13\n",
      " versicolor'       0.89      0.94      0.91        17\n",
      "  virginica'       0.95      0.90      0.92        20\n",
      "\n",
      "    accuracy                           0.94        50\n",
      "   macro avg       0.95      0.95      0.95        50\n",
      "weighted avg       0.94      0.94      0.94        50\n",
      "\n",
      "0.94\n"
     ]
    }
   ],
   "source": [
    "print('决策树算法应用在多分类数据集：')\n",
    "data_= pd.read_excel('data/fisheriris.xlsx')\n",
    "data_3 = data_.sample(frac=1,random_state=42)\n",
    "data_3 = data_3.values\n",
    "X = data_3[:,:-1]\n",
    "y = data_3[:,-1]\n",
    "X_train_3 = X[:100,:]\n",
    "y_train_3 = y[:100]\n",
    "X_test_3 = X[100:,:]\n",
    "y_test_3 = y[100:]\n",
    "\n",
    "My_model_3 = DecisionTreeClassify(train_size=7/8)\n",
    "sklearn_model = DecisionTreeClassifier()\n",
    "My_model_3.fit(X_train=X_train_3,y_train=y_train_3)\n",
    "sklearn_model.fit(X_train_3,y_train_3)\n",
    "y_pre_3 = My_model_3.predict(X_test_3)\n",
    "y_pre_sklearn = sklearn_model.predict(X_test_3)\n",
    "print(classification_report(y_pre_3,y_test_3))\n",
    "print(accuracy_score(y_pre_3,y_test_3))\n",
    "print(classification_report(y_pre_sklearn,y_test_3))\n",
    "print(accuracy_score(y_pre_sklearn,y_test_3))"
   ]
  }
 ],
 "metadata": {
  "kernelspec": {
   "display_name": "Python 3",
   "language": "python",
   "name": "python3"
  },
  "language_info": {
   "codemirror_mode": {
    "name": "ipython",
    "version": 3
   },
   "file_extension": ".py",
   "mimetype": "text/x-python",
   "name": "python",
   "nbconvert_exporter": "python",
   "pygments_lexer": "ipython3",
   "version": "3.9.6"
  },
  "orig_nbformat": 4
 },
 "nbformat": 4,
 "nbformat_minor": 2
}

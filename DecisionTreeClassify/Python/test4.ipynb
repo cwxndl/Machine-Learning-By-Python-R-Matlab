{
 "cells": [
  {
   "cell_type": "code",
   "execution_count": 2,
   "metadata": {},
   "outputs": [],
   "source": [
    "import pandas as pd \n",
    "import numpy as np\n",
    "import matplotlib.pyplot as plt \n",
    "import seaborn as snn\n",
    "from sklearn.model_selection import train_test_split\n",
    "from sklearn.metrics import classification_report,accuracy_score\n",
    "from sklearn.tree import DecisionTreeClassifier ##sklearn决策树算法\n",
    "from Decisiontree_classify import DecisionTreeClassify  ##自己写的决策树算法\n",
    "import utils"
   ]
  },
  {
   "attachments": {},
   "cell_type": "markdown",
   "metadata": {},
   "source": [
    "# 乳腺癌数据集"
   ]
  },
  {
   "cell_type": "code",
   "execution_count": 3,
   "metadata": {},
   "outputs": [],
   "source": [
    "data_4= pd.read_csv('data/breast_cancer.csv')\n",
    "data_4 = data_4.values\n",
    "x = data_4[:,:-1]\n",
    "y = data_4[:,-1]\n",
    "x_train2,x_test2,y_train2,y_test2 = train_test_split(x,y,test_size=0.2,random_state=42)"
   ]
  },
  {
   "cell_type": "code",
   "execution_count": 5,
   "metadata": {},
   "outputs": [
    {
     "name": "stdout",
     "output_type": "stream",
     "text": [
      "自编算法在测试集上的性能：\n",
      "              precision    recall  f1-score   support\n",
      "\n",
      "         0.0       0.89      0.91      0.90        45\n",
      "         1.0       0.94      0.93      0.93        69\n",
      "\n",
      "    accuracy                           0.92       114\n",
      "   macro avg       0.92      0.92      0.92       114\n",
      "weighted avg       0.92      0.92      0.92       114\n",
      "\n",
      "0.9210526315789473\n",
      "sklearn模型在测试集上的性能\n",
      "              precision    recall  f1-score   support\n",
      "\n",
      "         0.0       0.89      0.89      0.89        46\n",
      "         1.0       0.93      0.93      0.93        68\n",
      "\n",
      "    accuracy                           0.91       114\n",
      "   macro avg       0.91      0.91      0.91       114\n",
      "weighted avg       0.91      0.91      0.91       114\n",
      "\n",
      "0.9122807017543859\n"
     ]
    }
   ],
   "source": [
    "model_4 = DecisionTreeClassify()\n",
    "model_4.fit(x_train2,y_train2)\n",
    "y_pre4 = model_4.predict(x_test2)\n",
    "sklearn_model = DecisionTreeClassifier()\n",
    "sklearn_model.fit(x_train2,y_train2)\n",
    "y_pre_sklearn = sklearn_model.predict(x_test2)\n",
    "## 自编算法的性能\n",
    "print('自编算法在测试集上的性能：')\n",
    "print(classification_report(y_pre4,y_test2))\n",
    "print(accuracy_score(y_pre4,y_test2))\n",
    "print('sklearn模型在测试集上的性能')\n",
    "print(classification_report(y_pre_sklearn,y_test2))\n",
    "print(accuracy_score(y_pre_sklearn,y_test2))"
   ]
  }
 ],
 "metadata": {
  "kernelspec": {
   "display_name": "Python 3",
   "language": "python",
   "name": "python3"
  },
  "language_info": {
   "codemirror_mode": {
    "name": "ipython",
    "version": 3
   },
   "file_extension": ".py",
   "mimetype": "text/x-python",
   "name": "python",
   "nbconvert_exporter": "python",
   "pygments_lexer": "ipython3",
   "version": "3.9.6"
  },
  "orig_nbformat": 4
 },
 "nbformat": 4,
 "nbformat_minor": 2
}

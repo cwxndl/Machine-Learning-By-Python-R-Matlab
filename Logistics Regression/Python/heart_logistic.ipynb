{
 "cells": [
  {
   "cell_type": "markdown",
   "metadata": {},
   "source": [
    "# 逻辑回归算法python实现\n",
    "数据集为二分类数据：heart.csv\n",
    "# 数据集介绍：\n",
    "数据集有1025行，14列。每行表示一个病人。13列表示特征，最后列表示标签(是否患心脏病)\n",
    "- age : 年龄（连续型数据）\n",
    "- sex ：性别（1代表男，0代表女）\n",
    "- cp ：心绞痛历史（3：典型的心绞痛；2：非典型心绞痛；1：无心绞痛；0：无症状）\n",
    "- trestbps:静息血压，入院时测量得到，单位为毫米汞柱(mm Hg)  (连续型数据)\n",
    "- chol:胆固醇含量，单位:mgldl （连续型数据）\n",
    "- fbs:空腹时是否血糖高，如果空腹血糖大于120 mg/dl，值为1，否则值为0 \n",
    "- restecg: 静息时的心电图特征。0:正常。1:  ST-T波有异常。2:根据Estes准则，有潜在的左\n",
    "- thalach: 最大心率 \n",
    "- exang :运动是否会导致心绞痛,1表示会，0表示不会  \n",
    "- oldpeak  : 运动相比于静息状态\n",
    "- slope : 心电图中ST波峰值的坡度（1:上升，2:平坦，3:下降)   \n",
    "- ca: 心脏周边大血管的个数(0-3)\n",
    "- thal: 是否患有地中海贫血症(0:无，1: fixed defect; 2: reversable defect) \n",
    "- target: 标签列。是否有心脏病，0表示没有，1表示有"
   ]
  },
  {
   "cell_type": "markdown",
   "metadata": {},
   "source": [
    "## heart.csv 数据预处理\n",
    "- 连续型数据： age、trestbps、chol、thalach、oldpeak\n",
    "- 定类数据（需要独热编码）：sex、fbs、exang、thal、slope、restecg、\n",
    "- 定序数据（同样需要独热编码):ca、cp"
   ]
  },
  {
   "cell_type": "code",
   "execution_count": 1,
   "metadata": {},
   "outputs": [],
   "source": [
    "import numpy as np \n",
    "from numpy import *\n",
    "import matplotlib.pyplot as plt \n",
    "import seaborn as snn \n",
    "import pandas as pd\n",
    "import sklearn\n",
    "from sklearn.metrics import f1_score,accuracy_score,confusion_matrix,classification_report"
   ]
  },
  {
   "cell_type": "code",
   "execution_count": null,
   "metadata": {},
   "outputs": [],
   "source": [
    "## 对 heart.csv 进行数据预处理"
   ]
  },
  {
   "cell_type": "code",
   "execution_count": 4,
   "metadata": {},
   "outputs": [],
   "source": [
    "# 定义 sigmoid 函数，为了防止计算机计算溢出，需要将sigmoid函数定义为以下形式\n",
    "def sigmoid(x):\n",
    "    if x>=0:\n",
    "        return 1.0/(1+np.exp(-x))\n",
    "    else:\n",
    "        return np.exp(x)/(1+np.exp(x))\n",
    "\n",
    "# 定义梯度下降法函数\n",
    "def gradient1(x,y,initial_beta,learning_rate):\n",
    "    shape = x.shape #获取数据的行数和列数\n",
    "    rows = shape[0] #数据的行数\n",
    "    cols = shape[1] #数据特征维数\n",
    "    diff_matrix = np.zeros((1,cols)) #初始化数据集的梯度矩阵\n",
    "    for  i in range(rows): # 遍历每一个样本数据\n",
    "        temp_x = x[i,:] # 读取第i个样本数据\n",
    "        temp_y = y[i]   # 读取第i个样本标签\n",
    "        p1 = sigmoid(np.dot(initial_beta,temp_x.reshape(cols,1))) #计算该样本属于正例的概率\n",
    "        diff_matrix = np.add(diff_matrix,temp_x*(p1-temp_y)) #更新梯度矩阵\n",
    "    new_beta = initial_beta - learning_rate*diff_matrix #利用最速下降法更新参数beta\n",
    "    return new_beta,diff_matrix  #返回更新的beta\n",
    "\n",
    "# 定义随机梯度下降函数\n",
    "def SGD():\n",
    "    pass\n",
    "# 定义损失函数\n",
    "def loss(x,y,beta):\n",
    "    loss_sum =0\n",
    "    for i in range(len(y)):\n",
    "        temp_loss = -y[i]*np.dot(beta,x[i,:].reshape(x.shape[1],1)) -np.log(1-sigmoid(np.dot(beta,x[i,:].reshape(x.shape[1],1)))+1)\n",
    "        loss_sum = loss_sum+temp_loss\n",
    "    return loss_sum\n",
    "# 定义训练数据集函数\n",
    "\n",
    "def train(x,y,initial_beta,iter_num,learning_rate):\n",
    "    beta = initial_beta  #初始化参数beta,以便后面更新该参数\n",
    "    for i in range(iter_num): ## 开始迭代\n",
    "        beta,diff_mat = gradient1(x,y,beta,learning_rate=learning_rate) #使用梯度下降算法更新每一个迭代步骤的beta\n",
    "    diff_norm = np.linalg.norm(diff_mat,ord=2) #计算迭代之后的梯度值的二范数\n",
    "    return beta,diff_norm #返回更新的参数以及梯度的二范数\n",
    "## 定义绘制混淆矩阵的函数\n",
    "import itertools\n",
    "def plot_confusion_matrix(cm, classes,\n",
    "                          title='Confusion matrix',\n",
    "                          cmap=plt.cm.Blues):\n",
    "    \"\"\"\n",
    "    This function prints and plots the confusion matrix.\n",
    "    \"\"\"\n",
    "    plt.imshow(cm, interpolation='nearest', cmap=cmap)\n",
    "    plt.title(title)\n",
    "    plt.colorbar()\n",
    "    tick_marks = np.arange(len(classes))\n",
    "    plt.xticks(tick_marks, classes, rotation=0)\n",
    "    plt.yticks(tick_marks, classes)\n",
    "\n",
    "    thresh = cm.max() / 2.\n",
    "    for i, j in itertools.product(range(cm.shape[0]), range(cm.shape[1])):\n",
    "        plt.text(j, i, cm[i, j],\n",
    "                 horizontalalignment=\"center\",\n",
    "                 color=\"white\" if cm[i, j] > thresh else \"black\")\n",
    "\n",
    "    plt.tight_layout()\n",
    "    plt.ylabel('True label')\n",
    "    plt.xlabel('Predicted label')\n",
    "    \n",
    "def main(data):  #定义主函数\n",
    "    learning_rate = 1e-3 #搜索步长\n",
    "    # data = np.loadtxt('data/horseColicTraining.txt') #读取训练集数据\n",
    "    x = data[:,:-1] #获得数据特征\n",
    "    y = data[:,-1] #获得数据标签\n",
    "    shape = data.shape\n",
    "    m = shape[0] #获得数据样本数量\n",
    "    from sklearn import preprocessing\n",
    "    zscore_scaler = preprocessing.StandardScaler()\n",
    "    x1 = zscore_scaler.fit_transform(x) #对数据进行标准化处理\n",
    "    ini_beta = np.zeros((1,x.shape[1])) #初始化参数\n",
    "    iter_num = 5000 #迭代次数\n",
    "    beta,diff_norm = train(x1,y,initial_beta=ini_beta,iter_num=iter_num,learning_rate=learning_rate) #训练数据集\n",
    "    return x1,y,beta,diff_norm #返回训练之后的x,y,beta,以及梯度矩阵的范数\n",
    "data_heart = pd.read_csv('data/process_heart.csv')\n",
    "data = data_heart.values\n",
    "train_data = data[:820,:]\n",
    "train_x,train_y,beta ,diff_norm = main(train_data)"
   ]
  },
  {
   "cell_type": "code",
   "execution_count": 5,
   "metadata": {},
   "outputs": [
    {
     "name": "stdout",
     "output_type": "stream",
     "text": [
      "0.8719512195121951\n",
      "0.88268156424581\n",
      "              precision    recall  f1-score   support\n",
      "\n",
      "           0       0.81      0.91      0.86       352\n",
      "           1       0.93      0.84      0.88       468\n",
      "\n",
      "    accuracy                           0.87       820\n",
      "   macro avg       0.87      0.88      0.87       820\n",
      "weighted avg       0.88      0.87      0.87       820\n",
      "\n"
     ]
    }
   ],
   "source": [
    "## 利用自己写的逻辑回归算法得到的beta 去获得训练集上的精度和f1值\n",
    "temp_y = np.dot(beta,np.transpose(train_x))\n",
    "predict_y = []\n",
    "for i in range(temp_y.shape[1]):\n",
    "    y = sigmoid(temp_y[0,i])\n",
    "    if y<=0.5:\n",
    "        y_new = 0\n",
    "    else:\n",
    "        y_new =1\n",
    "    predict_y.append(y_new)\n",
    "true_num = 0\n",
    "for i in range(len(predict_y)):\n",
    "    if predict_y[i] == train_y[i]:\n",
    "        true_num+=1\n",
    "acc = true_num/len(train_y)\n",
    "f1 = f1_score(y_true=train_y,y_pred=predict_y)\n",
    "print(acc)  #准确率\n",
    "print(f1)   # f1值\n",
    "print(classification_report(predict_y,train_y)) #打印评价指标：f1、accuracy、recall"
   ]
  },
  {
   "cell_type": "code",
   "execution_count": 8,
   "metadata": {},
   "outputs": [
    {
     "name": "stdout",
     "output_type": "stream",
     "text": [
      "0.8048780487804879\n",
      "0.8095238095238094\n",
      "              precision    recall  f1-score   support\n",
      "\n",
      "           0       0.75      0.85      0.80        94\n",
      "           1       0.86      0.77      0.81       111\n",
      "\n",
      "    accuracy                           0.80       205\n",
      "   macro avg       0.81      0.81      0.80       205\n",
      "weighted avg       0.81      0.80      0.81       205\n",
      "\n"
     ]
    }
   ],
   "source": [
    "## 利用自己写的逻辑回归算法得到的beta 去获得测试集上的精度和f1值\n",
    "from sklearn import preprocessing\n",
    "zscore_scaler = preprocessing.StandardScaler()\n",
    "test_x = data[820:,:-1]\n",
    "test_y = data[820:,-1]\n",
    "test_x = zscore_scaler.fit_transform(test_x)\n",
    "temp_y = np.dot(beta,np.transpose(test_x))\n",
    "predict_y = []\n",
    "for i in range(temp_y.shape[1]):\n",
    "    y = sigmoid(temp_y[0,i])\n",
    "    if y<=0.5:\n",
    "        y_new = 0\n",
    "    else:\n",
    "        y_new =1\n",
    "    predict_y.append(y_new)\n",
    "true_num = 0\n",
    "for i in range(len(predict_y)):\n",
    "    if predict_y[i] == test_y[i]:\n",
    "        true_num+=1\n",
    "acc = true_num/len(test_y)\n",
    "f1 = f1_score(y_true=test_y,y_pred=predict_y)\n",
    "print(acc)  #准确率\n",
    "print(f1)   # f1值\n",
    "print(classification_report(predict_y,test_y)) #打印评价指标：f1、accuracy、recall"
   ]
  },
  {
   "cell_type": "code",
   "execution_count": 6,
   "metadata": {},
   "outputs": [
    {
     "name": "stdout",
     "output_type": "stream",
     "text": [
      "              precision    recall  f1-score   support\n",
      "\n",
      "         0.0       0.81      0.91      0.86       352\n",
      "         1.0       0.93      0.84      0.88       468\n",
      "\n",
      "    accuracy                           0.87       820\n",
      "   macro avg       0.87      0.88      0.87       820\n",
      "weighted avg       0.88      0.87      0.87       820\n",
      "\n"
     ]
    }
   ],
   "source": [
    "## 引用sklearn 中的逻辑回归函数\n",
    "## 导入现有的包\n",
    "from sklearn.linear_model import LogisticRegression as LR\n",
    "lr1 = LR(max_iter=5000)\n",
    "lr1.fit(train_x,train_y)\n",
    "y_sklearn  = lr1.predict(train_x)\n",
    "print(classification_report(y_sklearn,train_y))"
   ]
  },
  {
   "cell_type": "code",
   "execution_count": 9,
   "metadata": {},
   "outputs": [
    {
     "name": "stdout",
     "output_type": "stream",
     "text": [
      "              precision    recall  f1-score   support\n",
      "\n",
      "         0.0       0.75      0.84      0.80        95\n",
      "         1.0       0.85      0.76      0.80       110\n",
      "\n",
      "    accuracy                           0.80       205\n",
      "   macro avg       0.80      0.80      0.80       205\n",
      "weighted avg       0.81      0.80      0.80       205\n",
      "\n"
     ]
    }
   ],
   "source": [
    "## 引用sklearn 中的逻辑回归函数对测试集进行预测\n",
    "y_pre = lr1.predict(test_x)\n",
    "print(classification_report(y_pre,test_y))"
   ]
  },
  {
   "cell_type": "code",
   "execution_count": 7,
   "metadata": {},
   "outputs": [
    {
     "data": {
      "image/png": "[encoded data removed]",
      "text/plain": [
       "<Figure size 640x480 with 2 Axes>"
      ]
     },
     "metadata": {},
     "output_type": "display_data"
    }
   ],
   "source": [
    "matrix = confusion_matrix(train_y,predict_y) #获得混淆矩阵\n",
    "class_names = ['1', '0' ]\n",
    "plt.figure()\n",
    "plot_confusion_matrix(matrix\n",
    "                      , classes=class_names\n",
    "                      , title='Confusion matrix')\n",
    "\n",
    "plt.savefig('./images/逻辑回归算法heart_csv混淆矩阵.png')\n",
    "plt.show()"
   ]
  },
  {
   "cell_type": "code",
   "execution_count": null,
   "metadata": {},
   "outputs": [],
   "source": [
    "## 用sklearn 中的逻辑回归函数 训练好的参数beta在测试集上进行测试\n",
    "testdata = np.loadtxt('data/horseColicTest.txt')\n",
    "from sklearn import preprocessing\n",
    "zscore_scaler = preprocessing.StandardScaler()\n",
    "\n",
    "test_x = testdata[:,:-1]\n",
    "test_y = testdata[:,-1]\n",
    "test_x1 = zscore_scaler.fit_transform(test_x)\n",
    "temp_y = np.dot(beta,np.transpose(test_x1))\n",
    "predict_y_test = []\n",
    "for i in range(temp_y.shape[1]):\n",
    "    y = sigmoid(temp_y[0,i])\n",
    "    if y<=0.5:\n",
    "        y_new = 0\n",
    "    else:\n",
    "        y_new =1\n",
    "    predict_y_test.append(y_new)\n",
    "predict_y_test_sklearn = lr1.predict(test_x1)\n",
    "print(classification_report(predict_y_test,test_y))\n",
    "print(classification_report(predict_y_test_sklearn,test_y))"
   ]
  },
  {
   "cell_type": "code",
   "execution_count": 14,
   "metadata": {},
   "outputs": [
    {
     "ename": "ValueError",
     "evalue": "shapes (2,3) and (2,1) not aligned: 3 (dim 1) != 2 (dim 0)",
     "output_type": "error",
     "traceback": [
      "\u001b[1;31m---------------------------------------------------------------------------\u001b[0m",
      "\u001b[1;31mValueError\u001b[0m                                Traceback (most recent call last)",
      "\u001b[1;32md:\\桌面移动\\py\\machine learning-vscode\\机器学习算法复现\\逻辑回归算法复现\\heart_logistic.ipynb Cell 12\u001b[0m in \u001b[0;36m<cell line: 5>\u001b[1;34m()\u001b[0m\n\u001b[0;32m      <a href='vscode-notebook-cell:/d%3A/%E6%A1%8C%E9%9D%A2%E7%A7%BB%E5%8A%A8/py/machine%20learning-vscode/%E6%9C%BA%E5%99%A8%E5%AD%A6%E4%B9%A0%E7%AE%97%E6%B3%95%E5%A4%8D%E7%8E%B0/%E9%80%BB%E8%BE%91%E5%9B%9E%E5%BD%92%E7%AE%97%E6%B3%95%E5%A4%8D%E7%8E%B0/heart_logistic.ipynb#ch0000011?line=2'>3</a>\u001b[0m beta \u001b[39m=\u001b[39m np\u001b[39m.\u001b[39mzeros((\u001b[39m1\u001b[39m,\u001b[39m3\u001b[39m))\n\u001b[0;32m      <a href='vscode-notebook-cell:/d%3A/%E6%A1%8C%E9%9D%A2%E7%A7%BB%E5%8A%A8/py/machine%20learning-vscode/%E6%9C%BA%E5%99%A8%E5%AD%A6%E4%B9%A0%E7%AE%97%E6%B3%95%E5%A4%8D%E7%8E%B0/%E9%80%BB%E8%BE%91%E5%9B%9E%E5%BD%92%E7%AE%97%E6%B3%95%E5%A4%8D%E7%8E%B0/heart_logistic.ipynb#ch0000011?line=3'>4</a>\u001b[0m \u001b[39mfrom\u001b[39;00m \u001b[39mnumpy\u001b[39;00m \u001b[39mimport\u001b[39;00m \u001b[39m*\u001b[39m\n\u001b[1;32m----> <a href='vscode-notebook-cell:/d%3A/%E6%A1%8C%E9%9D%A2%E7%A7%BB%E5%8A%A8/py/machine%20learning-vscode/%E6%9C%BA%E5%99%A8%E5%AD%A6%E4%B9%A0%E7%AE%97%E6%B3%95%E5%A4%8D%E7%8E%B0/%E9%80%BB%E8%BE%91%E5%9B%9E%E5%BD%92%E7%AE%97%E6%B3%95%E5%A4%8D%E7%8E%B0/heart_logistic.ipynb#ch0000011?line=4'>5</a>\u001b[0m \u001b[39mprint\u001b[39m(np\u001b[39m.\u001b[39;49mdot(demo,np\u001b[39m.\u001b[39;49mdot(demo,beta\u001b[39m.\u001b[39;49mtranspose())\u001b[39m-\u001b[39;49my))\n",
      "File \u001b[1;32m<__array_function__ internals>:180\u001b[0m, in \u001b[0;36mdot\u001b[1;34m(*args, **kwargs)\u001b[0m\n",
      "\u001b[1;31mValueError\u001b[0m: shapes (2,3) and (2,1) not aligned: 3 (dim 1) != 2 (dim 0)"
     ]
    }
   ],
   "source": [
    "demo = np.array([[1,2,3],[4,5,6]])\n",
    "y = np.array([[1],[0]])\n",
    "beta = np.zeros((1,3))\n",
    "from numpy import *\n",
    "print(np.dot(demo,np.dot(demo,beta.transpose())-y))\n"
   ]
  }
 ],
 "metadata": {
  "kernelspec": {
   "display_name": "Python 3.9.6 64-bit",
   "language": "python",
   "name": "python3"
  },
  "language_info": {
   "codemirror_mode": {
    "name": "ipython",
    "version": 3
   },
   "file_extension": ".py",
   "mimetype": "text/x-python",
   "name": "python",
   "nbconvert_exporter": "python",
   "pygments_lexer": "ipython3",
   "version": "3.9.6"
  },
  "orig_nbformat": 4,
  "vscode": {
   "interpreter": {
    "hash": "865d8b2eb28e274047ba64063dfb6a2aabf0dfec4905d304d7a76618dae6fdd4"
   }
  }
 },
 "nbformat": 4,
 "nbformat_minor": 2
}

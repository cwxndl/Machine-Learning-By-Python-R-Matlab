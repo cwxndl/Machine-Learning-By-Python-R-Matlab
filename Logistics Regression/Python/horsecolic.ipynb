{
 "cells": [
  {
   "cell_type": "markdown",
   "metadata": {},
   "source": [
    "# 逻辑回归案例一\n",
    "- 数据集：/data/horseColicTraining.txt、/data/horseColicTest.txt\n",
    "- 数据集类型：二分类数据集"
   ]
  },
  {
   "cell_type": "code",
   "execution_count": 5,
   "metadata": {},
   "outputs": [],
   "source": [
    "## 导入需要的包\n",
    "import numpy as np \n",
    "from numpy import *\n",
    "import matplotlib.pyplot as plt \n",
    "import seaborn as snn \n",
    "import pandas as pd\n",
    "import sklearn\n",
    "from sklearn.metrics import f1_score,accuracy_score,confusion_matrix,classification_report"
   ]
  },
  {
   "cell_type": "code",
   "execution_count": 22,
   "metadata": {},
   "outputs": [],
   "source": [
    "# 定义 sigmoid 函数，为了防止计算机计算溢出，需要将sigmoid函数定义为以下形式\n",
    "def sigmoid(x):\n",
    "    if x>=0:\n",
    "        return 1.0/(1+np.exp(-x))\n",
    "    else:\n",
    "        return np.exp(x)/(1+np.exp(x))\n",
    "\n",
    "# 定义梯度下降法函数\n",
    "def gradient1(x,y,initial_beta,learning_rate):\n",
    "    shape = x.shape #获取数据的行数和列数\n",
    "    rows = shape[0] #数据的行数\n",
    "    cols = shape[1] #数据特征维数\n",
    "    diff_matrix = np.zeros((1,cols)) #初始化数据集的梯度矩阵\n",
    "    for  i in range(rows): # 遍历每一个样本数据\n",
    "        temp_x = x[i,:] # 读取第i个样本数据\n",
    "        temp_y = y[i] #读取第i个样本标签\n",
    "        p1 = sigmoid(np.dot(initial_beta,temp_x.reshape(cols,1))) #计算该样本属于正例的概率\n",
    "        diff_matrix = np.add(diff_matrix,temp_x*(p1-temp_y)) #更新梯度矩阵\n",
    "    new_beta = initial_beta - learning_rate*diff_matrix #利用最速下降法更新参数beta\n",
    "    return new_beta,diff_matrix  #返回更新的beta\n",
    "\n",
    "# 定义随机梯度下降函数\n",
    "def SGD():\n",
    "    pass\n",
    "# 定义损失函数\n",
    "def loss(x,y,beta):\n",
    "    loss_sum =0\n",
    "    for i in range(len(y)):\n",
    "        temp_loss = -y[i]*np.dot(beta,x[i,:].reshape(x.shape[1],1)) -np.log(1-sigmoid(np.dot(beta,x[i,:].reshape(x.shape[1],1)))+1)\n",
    "        loss_sum = loss_sum+temp_loss\n",
    "    return loss_sum\n",
    "# 定义训练数据集函数\n",
    "\n",
    "def train(x,y,initial_beta,iter_num,learning_rate):\n",
    "    beta = initial_beta  #初始化参数beta,以便后面更新该参数\n",
    "    for i in range(iter_num): ## 开始迭代\n",
    "        beta,diff_mat = gradient1(x,y,beta,learning_rate=learning_rate) #使用梯度下降算法更新每一个迭代步骤的beta\n",
    "    diff_norm = np.linalg.norm(diff_mat,ord=2) #计算迭代之后的梯度值的二范数\n",
    "    return beta,diff_norm #返回更新的参数以及梯度的二范数\n",
    "\n",
    "def main():  #定义主函数\n",
    "    learning_rate = 1e-6 #搜索步长\n",
    "    data = np.loadtxt('data/horseColicTraining.txt') #读取训练集数据\n",
    "    x = data[:,:-1] #获得数据特征\n",
    "    y = data[:,-1] #获得数据标签\n",
    "    shape = data.shape\n",
    "    m = shape[0] #获得数据样本数量\n",
    "    from sklearn import preprocessing\n",
    "    zscore_scaler = preprocessing.StandardScaler()\n",
    "    x1 = zscore_scaler.fit_transform(x) #对数据进行标准化处理\n",
    "    ini_beta = np.zeros((1,x.shape[1])) #初始化参数\n",
    "    iter_num = 50000 #迭代次数\n",
    "    beta,diff_norm = train(x1,y,initial_beta=ini_beta,iter_num=iter_num,learning_rate=learning_rate) #训练数据集\n",
    "    return x1,y,beta,diff_norm #返回训练之后的x,y,beta,以及梯度矩阵的范数\n",
    "train_x,train_y,beta ,diff_norm = main()"
   ]
  },
  {
   "cell_type": "code",
   "execution_count": 23,
   "metadata": {},
   "outputs": [
    {
     "name": "stdout",
     "output_type": "stream",
     "text": [
      "[[ 0.27283847 -0.08395185  0.35436451 -0.35100285  0.12545482 -0.12859265\n",
      "  -0.13172125 -0.36546322 -0.08553534 -0.28584309  0.2971688  -0.14159316\n",
      "   0.35246034 -0.12356456 -0.15576769  0.16684302 -0.16675018 -0.09054291\n",
      "   0.27819033 -0.04308212 -0.15052085]]\n",
      "7.446792871493527\n"
     ]
    }
   ],
   "source": [
    "print(beta)\n",
    "print(diff_norm)"
   ]
  },
  {
   "cell_type": "code",
   "execution_count": 24,
   "metadata": {},
   "outputs": [
    {
     "name": "stdout",
     "output_type": "stream",
     "text": [
      "0.7357859531772575\n",
      "0.7710144927536232\n",
      "              precision    recall  f1-score   support\n",
      "\n",
      "           0       0.72      0.66      0.69       132\n",
      "           1       0.75      0.80      0.77       167\n",
      "\n",
      "    accuracy                           0.74       299\n",
      "   macro avg       0.73      0.73      0.73       299\n",
      "weighted avg       0.73      0.74      0.73       299\n",
      "\n"
     ]
    }
   ],
   "source": [
    "## 利用得到的beta 去获得训练集上的精度和f1值\n",
    "temp_y = np.dot(beta,np.transpose(train_x))\n",
    "predict_y = []\n",
    "for i in range(temp_y.shape[1]):\n",
    "    y = sigmoid(temp_y[0,i])\n",
    "    if y<=0.5:\n",
    "        y_new = 0\n",
    "    else:\n",
    "        y_new =1\n",
    "    predict_y.append(y_new)\n",
    "true_num = 0\n",
    "for i in range(len(predict_y)):\n",
    "    if predict_y[i] == train_y[i]:\n",
    "        true_num+=1\n",
    "acc = true_num/len(train_y)\n",
    "f1 = f1_score(y_true=train_y,y_pred=predict_y)\n",
    "print(acc)  #准确率\n",
    "print(f1)   # f1值\n",
    "print(classification_report(predict_y,train_y)) #打印评价指标：f1、accuracy、recall"
   ]
  },
  {
   "cell_type": "code",
   "execution_count": 25,
   "metadata": {},
   "outputs": [
    {
     "name": "stdout",
     "output_type": "stream",
     "text": [
      "              precision    recall  f1-score   support\n",
      "\n",
      "         0.0       0.60      0.68      0.64       107\n",
      "         1.0       0.81      0.75      0.78       192\n",
      "\n",
      "    accuracy                           0.73       299\n",
      "   macro avg       0.71      0.72      0.71       299\n",
      "weighted avg       0.74      0.73      0.73       299\n",
      "\n"
     ]
    }
   ],
   "source": [
    "## 引用sklearn 中的逻辑回归函数\n",
    "## 导入现有的包\n",
    "from sklearn.linear_model import LogisticRegression as LR\n",
    "lr1 = LR(max_iter=5000)\n",
    "lr1.fit(train_x,train_y)\n",
    "y_sklearn  = lr1.predict(train_x)\n",
    "print(classification_report(y_sklearn,train_y))"
   ]
  },
  {
   "cell_type": "code",
   "execution_count": 26,
   "metadata": {},
   "outputs": [
    {
     "data": {
      "image/png": "[encoded data removed]",
      "text/plain": [
       "<Figure size 640x480 with 2 Axes>"
      ]
     },
     "metadata": {},
     "output_type": "display_data"
    }
   ],
   "source": [
    "## 定义绘制混淆矩阵的函数\n",
    "import itertools\n",
    "def plot_confusion_matrix(cm, classes,\n",
    "                          title='Confusion matrix',\n",
    "                          cmap=plt.cm.Blues):\n",
    "    \"\"\"\n",
    "    This function prints and plots the confusion matrix.\n",
    "    \"\"\"\n",
    "    plt.imshow(cm, interpolation='nearest', cmap=cmap)\n",
    "    plt.title(title)\n",
    "    plt.colorbar()\n",
    "    tick_marks = np.arange(len(classes))\n",
    "    plt.xticks(tick_marks, classes, rotation=0)\n",
    "    plt.yticks(tick_marks, classes)\n",
    "\n",
    "    thresh = cm.max() / 2.\n",
    "    for i, j in itertools.product(range(cm.shape[0]), range(cm.shape[1])):\n",
    "        plt.text(j, i, cm[i, j],\n",
    "                 horizontalalignment=\"center\",\n",
    "                 color=\"white\" if cm[i, j] > thresh else \"black\")\n",
    "\n",
    "    plt.tight_layout()\n",
    "    plt.ylabel('True label')\n",
    "    plt.xlabel('Predicted label')\n",
    "matrix = confusion_matrix(train_y,predict_y) #获得混淆矩阵\n",
    "class_names = ['1', '0' ]\n",
    "plt.figure()\n",
    "plot_confusion_matrix(matrix\n",
    "                      , classes=class_names\n",
    "                      , title='Confusion matrix')\n",
    "\n",
    "plt.savefig('./images/逻辑回归算法version1.0混淆矩阵.png')\n",
    "plt.show()"
   ]
  },
  {
   "cell_type": "code",
   "execution_count": 27,
   "metadata": {},
   "outputs": [
    {
     "name": "stdout",
     "output_type": "stream",
     "text": [
      "              precision    recall  f1-score   support\n",
      "\n",
      "           0       0.80      0.55      0.65        29\n",
      "           1       0.72      0.89      0.80        38\n",
      "\n",
      "    accuracy                           0.75        67\n",
      "   macro avg       0.76      0.72      0.73        67\n",
      "weighted avg       0.76      0.75      0.74        67\n",
      "\n",
      "              precision    recall  f1-score   support\n",
      "\n",
      "         0.0       0.65      0.54      0.59        24\n",
      "         1.0       0.77      0.84      0.80        43\n",
      "\n",
      "    accuracy                           0.73        67\n",
      "   macro avg       0.71      0.69      0.70        67\n",
      "weighted avg       0.72      0.73      0.73        67\n",
      "\n"
     ]
    }
   ],
   "source": [
    "## 用训练好的参数beta在测试集上进行测试\n",
    "testdata = np.loadtxt('data/horseColicTest.txt')\n",
    "from sklearn import preprocessing\n",
    "zscore_scaler = preprocessing.StandardScaler()\n",
    "\n",
    "test_x = testdata[:,:-1]\n",
    "test_y = testdata[:,-1]\n",
    "test_x1 = zscore_scaler.fit_transform(test_x)\n",
    "temp_y = np.dot(beta,np.transpose(test_x1))\n",
    "predict_y_test = []\n",
    "for i in range(temp_y.shape[1]):\n",
    "    y = sigmoid(temp_y[0,i])\n",
    "    if y<=0.5:\n",
    "        y_new = 0\n",
    "    else:\n",
    "        y_new =1\n",
    "    predict_y_test.append(y_new)\n",
    "predict_y_test_sklearn = lr1.predict(test_x1)\n",
    "print(classification_report(predict_y_test,test_y))\n",
    "print(classification_report(predict_y_test_sklearn,test_y))"
   ]
  },
  {
   "cell_type": "markdown",
   "metadata": {},
   "source": [
    "# 总结\n",
    "经过验证，发现该数据集在sklearn 中的逻辑回归函数与自己写的逻辑回归函数的效果相差不是很大，总体表现是官网的函数优于自己的函数。自己写的\n",
    "函数还可以继续优化：\n",
    "- 可以使用计算效率更高的优化算法\n",
    "- 可以在函数中加入正则化方法"
   ]
  }
 ],
 "metadata": {
  "kernelspec": {
   "display_name": "Python 3.9.6 64-bit",
   "language": "python",
   "name": "python3"
  },
  "language_info": {
   "codemirror_mode": {
    "name": "ipython",
    "version": 3
   },
   "file_extension": ".py",
   "mimetype": "text/x-python",
   "name": "python",
   "nbconvert_exporter": "python",
   "pygments_lexer": "ipython3",
   "version": "3.9.6"
  },
  "orig_nbformat": 4,
  "vscode": {
   "interpreter": {
    "hash": "865d8b2eb28e274047ba64063dfb6a2aabf0dfec4905d304d7a76618dae6fdd4"
   }
  }
 },
 "nbformat": 4,
 "nbformat_minor": 2
}

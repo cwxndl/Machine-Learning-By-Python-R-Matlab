{
 "cells": [
  {
   "cell_type": "markdown",
   "metadata": {},
   "source": [
    "# LDA线性判别分析算法\n",
    "线性判别分析（linear discriminant analysis, LDA）一种常用的数据降维方法，目的是在保持分类的前体下把数据投影至低维空间以降低计算复杂度。\n",
    "\n",
    "LDA和PCA都是利用线性变换对数据进行降维的机器学习技术。之前也对主成分分析（PCA）原理进行了总结。PCA是一种无监督的降维技术，无视数据的分类信息挖掘数据中的模式，投影后方差最大的方向即为主成分。LDA是一种有监督的降维技术，对数据进行模式分类。如图所示，LDA要求类间的方差最大，而类内的方差最小，以保证投影后同一分类数据集中，不同分类间数据距离尽可能大。\n",
    "\n",
    "## LDA算法的优缺点\n",
    "- 优点：\n",
    "  - 在降维过程中可以使用类别的先验知识经验，而像PCA这样的无监督学习则无法使用类别先验知识。\n",
    "  - LDA在样本分类信息依赖均值而不是方差的时候，比PCA之类的算法较优。\n",
    "- 缺点：\n",
    "  - LDA不适合对非高斯分布样本进行降维，PCA也有这个问题\n",
    "  - LDA在样本分类信息依赖方差而不是均值的时候，降维效果不好"
   ]
  },
  {
   "cell_type": "code",
   "execution_count": 19,
   "metadata": {},
   "outputs": [],
   "source": [
    "import numpy as np\n",
    "from numpy import *\n",
    "import pandas as pd\n",
    "import matplotlib.pyplot as plt \n",
    "import seaborn as snn\n",
    "from collections import Counter\n",
    "from imblearn.over_sampling import SMOTE  # 过采样算法\n",
    "from sklearn.metrics import f1_score,accuracy_score,confusion_matrix,classification_report\n",
    "from sklearn import preprocessing\n",
    "minmax  = preprocessing.MinMaxScaler()"
   ]
  },
  {
   "cell_type": "code",
   "execution_count": 21,
   "metadata": {},
   "outputs": [],
   "source": [
    "class myLDA:  # 二分类LDA算法 python实现\n",
    "    def fit (self,data): # data是numpy类型的数据，要求数据是二分类的\n",
    "        # 判断data数据集是否是二分类的\n",
    "        temp_x =  data[:,:-1] #获取数据集中的特征数据\n",
    "        temp_y =  data[:,-1] #获取数据集中的标签数据\n",
    "        self.labels = Counter(temp_y)  ##统计temp_y中元素以及对应元素出现的次数，返回一个字典\n",
    "        if len(self.labels.keys()) !=2:\n",
    "            raise ValueError(\"该数据集不是二分类问题，请重新输入数据集！\")\n",
    "        else:\n",
    "            x1 = [] # 存储第一类标签的数据x\n",
    "            x2 = [] # 存储第二类标签的数据x\n",
    "            # 下面判断 数据集中的两种标签比例是否为1:1\n",
    "            label_dic = list(self.labels.keys())\n",
    "            if label_dic[0] ==label_dic[1]: #说明两类标签比例为1:1\n",
    "                for x,y in zip(temp_x,temp_y):\n",
    "                    if y == label_dic[0]:\n",
    "                        x1.append(x)\n",
    "                    else:\n",
    "                        x2.append(x)\n",
    "                x1 = np.array(x1) #将第一类标签的数据转化为数组类型的数据\n",
    "                x2 = np.array(x2) #将第二类标签的数据转化为数组类型的数据\n",
    "            else:  # 如果样本类别不平衡\n",
    "                #SMOTE过采样\n",
    "                smo = SMOTE(random_state=42)\n",
    "                x_smo, y_smo = smo.fit_resample(temp_x, temp_y)\n",
    "                for x,y in zip(x_smo,y_smo):\n",
    "                    if y ==label_dic[0]:\n",
    "                        x1.append(x)\n",
    "                    else:\n",
    "                        x2.append(x)\n",
    "                x1 = np.array(x1)\n",
    "                x2 = np.array(x2)\n",
    "            ## 利用LDA算法求解最优的 w\n",
    "\n",
    "            mu_1 = np.mean(x1,axis = 0) # 对第一类标签的数据中每一个特征求均值\n",
    "            mu_2 = np.mean(x2,axis = 0) # 对第二类标签的数据中每一个特征求均值\n",
    "            x1_shape = x1.shape\n",
    "            x2_shape = x2.shape\n",
    "            sigma1 = np.zeros((x1_shape[1],x1_shape[1]))   #初始化第一类样本的协方差矩阵\n",
    "            sigma2 = np.zeros((x2_shape[1],x2_shape[1]))   #初始化第二类样本的协方差矩阵\n",
    "\n",
    "            for i in range(x1_shape[0]): #遍历每一个样本\n",
    "                temp_x1 = x1[i,:]-mu_1 #计算第一类中的第i个样本与均值的差\n",
    "                temp_x2 = x2[i,:]-mu_2 #计算第二类中的第i个样本与均值的差\n",
    "                temp_sigma1 = np.dot(temp_x1.reshape([-1,1]),[temp_x1]) #计算 (xi-mu)(xi-mu)T\n",
    "                temp_sigma2 = np.dot(temp_x2.reshape([-1,1]),[temp_x2]) \n",
    "                sigma1 = np.add(sigma1,temp_sigma1) #更新第一类样本的协方差矩阵\n",
    "                sigma2 = np.add(sigma2,temp_sigma2) #更新第二类样本的协方差矩阵\n",
    "            Sw = np.add(sigma1,sigma2)  # 计算 类内的散度矩阵\n",
    "            ## 对Sw进行SVD分解\n",
    "            U,sigma,V = np.linalg.svd(Sw,full_matrices= 0)\n",
    "            w1 =np.dot( np.dot(V,np.linalg.inv(np.diag(sigma))) ,U.T)\n",
    "            w = np.dot(w1,(mu_1-mu_2).T) #计算w\n",
    "            center1 = np.dot(w,mu_1.T) #计算第一类的类中心在直线y = wTx的投影\n",
    "            center2 = np.dot(w,mu_2.T) #计算第二类的类中心在直线y = wTx的投影\n",
    "        return w,center1,center2 #返回最优的w,两种类别的类中心\n",
    "    \n",
    "    def predict(self,x,w,center1,center2):\n",
    "        position  = np.dot(w,x.T)  #计算样本x在直线y = wTx上的投影\n",
    "        # 计算样本到每个中心点的距离\n",
    "        dist1 = np.abs(position-center1)\n",
    "        dist2 = np.abs(position-center2)\n",
    "        # 比较样本到每个中心点的距离\n",
    "        compare = dist1 -dist2\n",
    "        label = []\n",
    "        for i in compare:\n",
    "            if i<0: #如果dist1<dist2\n",
    "                label.append(list(self.labels.keys())[0])\n",
    "            else:\n",
    "                label.append(list(self.labels.keys())[1])\n",
    "        return label \n"
   ]
  },
  {
   "cell_type": "code",
   "execution_count": 22,
   "metadata": {},
   "outputs": [],
   "source": [
    "## 定义绘制混淆矩阵的函数\n",
    "import itertools\n",
    "def plot_confusion_matrix(cm, classes,\n",
    "                          title='Confusion matrix',\n",
    "                          cmap=plt.cm.Blues):\n",
    "    \"\"\"\n",
    "    This function prints and plots the confusion matrix.\n",
    "    \"\"\"\n",
    "    plt.imshow(cm, interpolation='nearest', cmap=cmap)\n",
    "    plt.title(title)\n",
    "    plt.colorbar()\n",
    "    tick_marks = np.arange(len(classes))\n",
    "    plt.xticks(tick_marks, classes, rotation=0)\n",
    "    plt.yticks(tick_marks, classes)\n",
    "\n",
    "    thresh = cm.max() / 2.\n",
    "    for i, j in itertools.product(range(cm.shape[0]), range(cm.shape[1])):\n",
    "        plt.text(j, i, cm[i, j],\n",
    "                 horizontalalignment=\"center\",\n",
    "                 color=\"white\" if cm[i, j] > thresh else \"black\")\n",
    "\n",
    "    plt.tight_layout()\n",
    "    plt.ylabel('True label')\n",
    "    plt.xlabel('Predicted label')"
   ]
  },
  {
   "cell_type": "code",
   "execution_count": 6,
   "metadata": {},
   "outputs": [],
   "source": [
    "traindata = np.loadtxt(\"data/horseColicTraining.txt\")  ## 对数据集horseColicTraining.txt进行训练\n",
    "lda = myLDA()\n",
    "w,center1,center2 = lda.fit(data= traindata)"
   ]
  },
  {
   "cell_type": "code",
   "execution_count": 7,
   "metadata": {},
   "outputs": [],
   "source": [
    "x_train = traindata[:,:-1]\n",
    "y_train = traindata[:,-1]\n",
    "y_train_predict = lda.predict(x=x_train,w = w,center1=center1,center2=center2)"
   ]
  },
  {
   "cell_type": "code",
   "execution_count": 8,
   "metadata": {},
   "outputs": [
    {
     "data": {
      "image/png": "[encoded data removed]",
      "text/plain": [
       "<Figure size 640x480 with 2 Axes>"
      ]
     },
     "metadata": {},
     "output_type": "display_data"
    }
   ],
   "source": [
    "matrix = confusion_matrix(y_train,y_train_predict) #获得混淆矩阵\n",
    "class_names = ['1', '0' ]\n",
    "plt.figure()\n",
    "plot_confusion_matrix(matrix\n",
    "                      , classes=class_names\n",
    "                      , title='Confusion matrix')\n",
    "\n",
    "plt.savefig('./images/线性判别分析算法训练集混淆矩阵.png')\n",
    "plt.show()"
   ]
  },
  {
   "cell_type": "code",
   "execution_count": 9,
   "metadata": {},
   "outputs": [
    {
     "name": "stdout",
     "output_type": "stream",
     "text": [
      "              precision    recall  f1-score   support\n",
      "\n",
      "         0.0       0.58      0.62      0.60       121\n",
      "         1.0       0.73      0.69      0.71       178\n",
      "\n",
      "    accuracy                           0.66       299\n",
      "   macro avg       0.65      0.66      0.65       299\n",
      "weighted avg       0.67      0.66      0.66       299\n",
      "\n"
     ]
    }
   ],
   "source": [
    "print(classification_report(y_pred= y_train_predict,y_true=y_train))  #训练集上的性能评价"
   ]
  },
  {
   "cell_type": "code",
   "execution_count": 10,
   "metadata": {},
   "outputs": [],
   "source": [
    "testdata = np.loadtxt(\"data/horseColicTest.txt\")\n",
    "x_test = testdata[:,:-1]\n",
    "y_test = testdata[:,-1]\n",
    "y_predict = lda.predict(x=x_test,w=w,center1=center1,center2=center2)"
   ]
  },
  {
   "cell_type": "code",
   "execution_count": 11,
   "metadata": {},
   "outputs": [
    {
     "data": {
      "image/png": "[encoded data removed]",
      "text/plain": [
       "<Figure size 640x480 with 2 Axes>"
      ]
     },
     "metadata": {},
     "output_type": "display_data"
    }
   ],
   "source": [
    "matrix_test = confusion_matrix(y_test,y_predict) #获得混淆矩阵\n",
    "class_names = ['1', '0' ]\n",
    "plt.figure()\n",
    "plot_confusion_matrix(matrix_test\n",
    "                      , classes=class_names\n",
    "                      , title='Confusion matrix')\n",
    "\n",
    "plt.savefig('./images/线性判别分析算法测试集混淆矩阵.png')\n",
    "plt.show()"
   ]
  },
  {
   "cell_type": "code",
   "execution_count": 12,
   "metadata": {},
   "outputs": [
    {
     "name": "stdout",
     "output_type": "stream",
     "text": [
      "              precision    recall  f1-score   support\n",
      "\n",
      "         0.0       0.54      0.70      0.61        20\n",
      "         1.0       0.85      0.74      0.80        47\n",
      "\n",
      "    accuracy                           0.73        67\n",
      "   macro avg       0.70      0.72      0.70        67\n",
      "weighted avg       0.76      0.73      0.74        67\n",
      "\n"
     ]
    }
   ],
   "source": [
    "print(classification_report(y_pred=y_predict,y_true=y_test)) # 测试集上的性能评价"
   ]
  },
  {
   "cell_type": "markdown",
   "metadata": {},
   "source": [
    "## 对二分类数据集 heart.csv进行线性判别分析\n",
    "![demo.jpg](./images/%E6%95%B0%E6%8D%AE%E8%AF%B4%E6%98%8E.jpg)"
   ]
  },
  {
   "cell_type": "code",
   "execution_count": 20,
   "metadata": {},
   "outputs": [],
   "source": [
    "import warnings\n",
    "warnings.filterwarnings('ignore')\n",
    "df = pd.read_csv('data/heart.csv')\n",
    "# df_heart.describe()\n",
    "## 还原定类特征由整数转为实际对应的字符串，还原为真实含义\n",
    "df['sex'][df['sex']==0] = 'female' ##sex列的数据值为0的为女性\n",
    "df['sex'][df['sex']==1] ='male' ##sex列数据值为1的为男性\n",
    "df['cp'][df['cp'] == 0] = 'typical angina'\n",
    "df['cp'][df['cp'] == 1] = 'atypical angina'\n",
    "df['cp'][df['cp'] == 2] = 'non-anginal pain'\n",
    "df['cp'][df['cp'] == 3] = 'asymptomatic'\n",
    " \n",
    "df['fbs'][df['fbs'] == 0] = 'lower than 120mg/ml'\n",
    "df['fbs'][df['fbs'] == 1] = 'greater than 120mg ml'\n",
    " \n",
    "df['restecg'][df['restecg'] == 0] = 'normal'\n",
    "df['restecg'][df['restecg'] == 1] = 'ST-T wave abnormality'\n",
    "df['restecg'][df['restecg'] == 2] = 'left ventricular hyper trophy'\n",
    " \n",
    "df['exang'][df['exang'] == 0] = 'no'\n",
    "df['exang'][df['exang'] == 1] = 'yes'\n",
    " \n",
    "df['slope'][df['slope'] == 0] = 'upsloping'\n",
    "df['slope'][df['slope'] == 1] = 'flat'\n",
    "df['slope'][df['slope'] == 2] = 'downsloping'\n",
    " \n",
    "df['thal'][df['thal'] == 0] = 'unknown'\n",
    "df['thal'][df['thal'] == 1] = 'normal'\n",
    "df['thal'][df['thal'] == 2] = 'fixed defect'\n",
    "df['thal'][df['thal'] == 3] = 'reversable defect'\n",
    "\n",
    "y_df = pd.DataFrame()\n",
    "y_df['y'] = df['target']\n",
    "# ####################将类别变量赋值为真正的字符串值用于catBoost分类###########\n",
    "# df1 = pd.DataFrame()\n",
    "# df1 = pd.concat([df,y_df],axis=1)\n",
    "# df1.drop('target',axis=1,inplace=True)\n",
    "# df1.to_csv('Heart.csv',index=False)\n",
    "# ##########################################################################\n",
    "# 导出预处理后的数据\n",
    "# 独热编码\n",
    "df = pd.get_dummies(df)\n",
    "new_df = pd.DataFrame()\n",
    "new_df = pd.concat([df,y_df],axis=1)\n",
    "new_df.drop('target',axis=1,inplace=True)\n",
    "new_df.head(5)\n",
    "new_df.to_csv('data/process_heart.csv',index=False)\n"
   ]
  },
  {
   "cell_type": "code",
   "execution_count": 23,
   "metadata": {},
   "outputs": [
    {
     "data": {
      "image/png": "[encoded data removed]",
      "text/plain": [
       "<Figure size 640x480 with 2 Axes>"
      ]
     },
     "metadata": {},
     "output_type": "display_data"
    }
   ],
   "source": [
    "lda2 = myLDA()\n",
    "heart_data = new_df.values\n",
    "train_data = heart_data[0:int(0.8*heart_data.shape[0]),:]\n",
    "testdata = heart_data[int(0.8*heart_data.shape[0])+1:,:]\n",
    "w,center1,center2=lda2.fit(train_data)\n",
    "x_train = train_data[:,:-1]\n",
    "y_train = train_data[:,-1]\n",
    "y_train_predict = lda2.predict(x=x_train,w = w,center1=center1,center2=center2)\n",
    "matrix = confusion_matrix(y_train,y_train_predict) #获得混淆矩阵\n",
    "class_names = ['1', '0' ]\n",
    "plt.figure()\n",
    "plot_confusion_matrix(matrix\n",
    "                      , classes=class_names\n",
    "                      , title='Confusion matrix')\n",
    "\n",
    "plt.savefig('./images/LDA心脏病数据集训练集混淆矩阵.png')\n",
    "plt.show()"
   ]
  }
 ],
 "metadata": {
  "kernelspec": {
   "display_name": "Python 3.9.6 64-bit",
   "language": "python",
   "name": "python3"
  },
  "language_info": {
   "codemirror_mode": {
    "name": "ipython",
    "version": 3
   },
   "file_extension": ".py",
   "mimetype": "text/x-python",
   "name": "python",
   "nbconvert_exporter": "python",
   "pygments_lexer": "ipython3",
   "version": "3.9.6"
  },
  "orig_nbformat": 4,
  "vscode": {
   "interpreter": {
    "hash": "865d8b2eb28e274047ba64063dfb6a2aabf0dfec4905d304d7a76618dae6fdd4"
   }
  }
 },
 "nbformat": 4,
 "nbformat_minor": 2
}

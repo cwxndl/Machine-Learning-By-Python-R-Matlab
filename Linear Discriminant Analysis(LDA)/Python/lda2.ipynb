{
 "cells": [
  {
   "cell_type": "code",
   "execution_count": 1,
   "metadata": {},
   "outputs": [],
   "source": [
    "import numpy as np\n",
    "import pandas as pd\n",
    "from collections import Counter\n",
    "import matplotlib.pyplot as plt\n",
    "from sklearn.metrics import f1_score,accuracy_score,confusion_matrix,classification_report\n",
    "from sklearn import preprocessing\n",
    "zscore_scaler = preprocessing.StandardScaler()\n",
    "class BinaryClassification:\n",
    "    \"\"\"\n",
    "    LDA二分类\n",
    "    \"\"\"\n",
    "    def fit(self, x, y):\n",
    "        \"\"\"\n",
    "        :param x: 训练样本\n",
    "        :param y: 训练标签\n",
    "        :return:\n",
    "        \"\"\"\n",
    "        # 将x,y转换为数组，方便接下来计算\n",
    "        x = np.array(x)\n",
    "        y = np.array(y)\n",
    "        # 判断是否为二分类问题\n",
    "        self.re = Counter(y)\n",
    "        if len(self.re.keys()) != 2:\n",
    "            raise ValueError(\"二分类问题，需要传入两类数据\")\n",
    "\n",
    "        # c1存储第一类数据,c2存储第一类数据\n",
    "        c1 = []\n",
    "        c2 = []\n",
    "        for temp_x, temp_y in zip(x, y):\n",
    "            if temp_y == list(self.re.keys())[0]:\n",
    "                c1.append(temp_x)\n",
    "            else:\n",
    "                c2.append(temp_x)\n",
    "        c1 = np.array(c1)\n",
    "        c2 = np.array(c2)\n",
    "        # 计算每类的平均值\n",
    "        mean1 = np.mean(c1, axis=0)\n",
    "        mean2 = np.mean(c2, axis=0)\n",
    "        # 计算每类的方差\n",
    "        var1 = np.var(c1, axis=0)\n",
    "        var2 = np.var(c2, axis=0)\n",
    "        # print(mean1, mean2, var1, var2)\n",
    "        # 计算每类协方差\n",
    "        cov1 = np.dot(c1.T, c1)/list(self.re.values())[0]\n",
    "        cov2 = np.dot(c2.T, c2)/list(self.re.values())[1]\n",
    "        # print(cov1)\n",
    "        # print(cov2)\n",
    "        # 计算类内散度矩阵Sw就是上文中的B\n",
    "        Sw = cov1 + cov2\n",
    "        # 计算类内散度矩阵Sb就是上文中的A\n",
    "        sb = np.array(mean2 - mean1)\n",
    "        Sb = np.dot(sb.reshape([-1, 1]), [sb])\n",
    "        # 求解瑞利熵的最大值\n",
    "        U, sigma, VT = np.linalg.svd(np.dot(np.linalg.inv(Sw), Sb))\n",
    "        w = VT[0]\n",
    "        # 计算每类样本中心点在超平面（直线）上的位置\n",
    "        center1 = np.dot(w, mean1.T)\n",
    "        center2 = np.dot(w, mean2.T)\n",
    "\n",
    "        return w, center1, center2\n",
    "\n",
    "    def predict(self, X, w, center1, center2):\n",
    "        # 计算每个样本值的在超平面上的位置\n",
    "        X = np.array(X)\n",
    "        position = np.dot(w, X.T)\n",
    "        # 计算样本点到各个中心点的距离\n",
    "        dis1 = np.abs(position - center1)\n",
    "        dis2 = np.abs(position - center2)\n",
    "        # 比较样本点到两个中心点的距离的大小，样本属于距离小的点\n",
    "        compare = dis1 - dis2\n",
    "        # label用于存储X中数据的类别\n",
    "        label = []\n",
    "        for i in compare:\n",
    "            if i < 0:\n",
    "                label.append(list(self.re.keys())[0])\n",
    "            else:\n",
    "                label.append(list(self.re.keys())[1])\n",
    "\n",
    "        return label\n"
   ]
  },
  {
   "cell_type": "code",
   "execution_count": 2,
   "metadata": {},
   "outputs": [],
   "source": [
    "lda = BinaryClassification()\n",
    "traindata = np.loadtxt(\"data/horseColicTraining.txt\")\n",
    "train_x = traindata[:,:-1]\n",
    "train_y = traindata[:,-1]\n",
    "w,cen1,cen2 = lda.fit(x=train_x,y=train_y)"
   ]
  },
  {
   "cell_type": "code",
   "execution_count": 3,
   "metadata": {},
   "outputs": [],
   "source": [
    "y_predict = lda.predict(X=train_x,w=w,center1=cen1,center2=cen2)"
   ]
  },
  {
   "cell_type": "code",
   "execution_count": 4,
   "metadata": {},
   "outputs": [],
   "source": [
    "## 定义绘制混淆矩阵的函数\n",
    "import itertools\n",
    "def plot_confusion_matrix(cm, classes,\n",
    "                          title='Confusion matrix',\n",
    "                          cmap=plt.cm.Blues):\n",
    "    \"\"\"\n",
    "    This function prints and plots the confusion matrix.\n",
    "    \"\"\"\n",
    "    plt.imshow(cm, interpolation='nearest', cmap=cmap)\n",
    "    plt.title(title)\n",
    "    plt.colorbar()\n",
    "    tick_marks = np.arange(len(classes))\n",
    "    plt.xticks(tick_marks, classes, rotation=0)\n",
    "    plt.yticks(tick_marks, classes)\n",
    "\n",
    "    thresh = cm.max() / 2.\n",
    "    for i, j in itertools.product(range(cm.shape[0]), range(cm.shape[1])):\n",
    "        plt.text(j, i, cm[i, j],\n",
    "                 horizontalalignment=\"center\",\n",
    "                 color=\"white\" if cm[i, j] > thresh else \"black\")\n",
    "\n",
    "    plt.tight_layout()\n",
    "    plt.ylabel('True label')\n",
    "    plt.xlabel('Predicted label')\n"
   ]
  },
  {
   "cell_type": "code",
   "execution_count": 5,
   "metadata": {},
   "outputs": [
    {
     "data": {
      "image/png": "[encoded data removed]",
      "text/plain": [
       "<Figure size 640x480 with 2 Axes>"
      ]
     },
     "metadata": {},
     "output_type": "display_data"
    }
   ],
   "source": [
    "matrix = confusion_matrix(train_y,y_predict) #获得混淆矩阵\n",
    "class_names = ['1', '0' ]\n",
    "plt.figure()\n",
    "plot_confusion_matrix(matrix\n",
    "                      , classes=class_names\n",
    "                      , title='Confusion matrix')\n",
    "plt.show()"
   ]
  },
  {
   "cell_type": "code",
   "execution_count": 6,
   "metadata": {},
   "outputs": [
    {
     "name": "stdout",
     "output_type": "stream",
     "text": [
      "              precision    recall  f1-score   support\n",
      "\n",
      "         0.0       0.61      0.65      0.63       121\n",
      "         1.0       0.75      0.72      0.74       178\n",
      "\n",
      "    accuracy                           0.69       299\n",
      "   macro avg       0.68      0.69      0.68       299\n",
      "weighted avg       0.70      0.69      0.69       299\n",
      "\n"
     ]
    }
   ],
   "source": [
    "print(classification_report(y_pred=y_predict,y_true=train_y)) # 测试集上的性能评价"
   ]
  },
  {
   "cell_type": "code",
   "execution_count": 7,
   "metadata": {},
   "outputs": [],
   "source": [
    "testdata = np.loadtxt(\"data/horseColicTest.txt\")\n",
    "x_test = testdata[:,:-1]\n",
    "y_test = testdata[:,-1]\n",
    "y_predict1 = lda.predict(X=x_test,w=w,center1=cen1,center2=cen2)"
   ]
  },
  {
   "cell_type": "code",
   "execution_count": 8,
   "metadata": {},
   "outputs": [
    {
     "data": {
      "image/png": "[encoded data removed]",
      "text/plain": [
       "<Figure size 640x480 with 2 Axes>"
      ]
     },
     "metadata": {},
     "output_type": "display_data"
    }
   ],
   "source": [
    "matrix_test = confusion_matrix(y_test,y_predict1) #获得混淆矩阵\n",
    "class_names = ['1', '0' ]\n",
    "plt.figure()\n",
    "plot_confusion_matrix(matrix_test\n",
    "                      , classes=class_names\n",
    "                      , title='Confusion matrix')\n",
    "\n",
    "# plt.savefig('./images/线性判别分析算法测试集混淆矩阵.png')\n",
    "plt.show()"
   ]
  },
  {
   "cell_type": "code",
   "execution_count": 9,
   "metadata": {},
   "outputs": [
    {
     "name": "stdout",
     "output_type": "stream",
     "text": [
      "              precision    recall  f1-score   support\n",
      "\n",
      "         0.0       0.54      0.70      0.61        20\n",
      "         1.0       0.85      0.74      0.80        47\n",
      "\n",
      "    accuracy                           0.73        67\n",
      "   macro avg       0.70      0.72      0.70        67\n",
      "weighted avg       0.76      0.73      0.74        67\n",
      "\n"
     ]
    }
   ],
   "source": [
    "print(classification_report(y_pred=y_predict1,y_true=y_test)) # 测试集上的性能评价"
   ]
  }
 ],
 "metadata": {
  "kernelspec": {
   "display_name": "Python 3.9.6 64-bit",
   "language": "python",
   "name": "python3"
  },
  "language_info": {
   "codemirror_mode": {
    "name": "ipython",
    "version": 3
   },
   "file_extension": ".py",
   "mimetype": "text/x-python",
   "name": "python",
   "nbconvert_exporter": "python",
   "pygments_lexer": "ipython3",
   "version": "3.9.6"
  },
  "orig_nbformat": 4,
  "vscode": {
   "interpreter": {
    "hash": "865d8b2eb28e274047ba64063dfb6a2aabf0dfec4905d304d7a76618dae6fdd4"
   }
  }
 },
 "nbformat": 4,
 "nbformat_minor": 2
}
